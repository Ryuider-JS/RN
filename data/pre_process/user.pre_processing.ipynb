{
 "cells": [
  {
   "cell_type": "code",
   "execution_count": null,
   "id": "b9261c07",
   "metadata": {},
   "outputs": [],
   "source": [
    "import pandas as pd\n",
    "import numpy as np"
   ]
  },
  {
   "cell_type": "code",
   "execution_count": null,
   "id": "d37dbd44",
   "metadata": {},
   "outputs": [],
   "source": [
    "df = pd.read_excel('../excel/2024_천혜향.xlsx')\n",
    "# df.describe()\n",
    "df\n"
   ]
  },
  {
   "cell_type": "code",
   "execution_count": null,
   "id": "6732e448",
   "metadata": {},
   "outputs": [],
   "source": [
    "df.columns"
   ]
  },
  {
   "cell_type": "code",
   "execution_count": null,
   "id": "d0ddddbb",
   "metadata": {},
   "outputs": [],
   "source": [
    "df_temp_2024_cheon = df.rename(columns={\n",
    "  \"1.주문자명 (지금 주문서 를 쓰고 있는 사람)\": \"order_name\",\n",
    "  \"2.수령인 (귤 받는사람)\": \"receiver_name\",\n",
    "  \"3.수령인 연락처\\n (택배사 배송 관련 문자 발송- 번호 양식 엄수 ex/010-1234-5678 (숫자만 배열x)\": \"receiver_phone_number\",\n",
    "  \"4.받는사람 주소 (시/도, 시/군/구 작성요망) - 잘 확인해주세요\": \"receiver_address\",\n",
    "  \"5.선택해주세요\\n **9번을 확인해주세요**\": \"description\",\n",
    "  \"6.원하시는 수량 (귤 받으실 분 필요수량) \": \"stock\",\n",
    "  \"8.입금자명\": \"depositor_name\",\n",
    "  \"10.요청사항 있으면 적어주세요😊\\n ex)현관비번\": \"memo\",\n",
    "  \"타임스탬프\": \"created_at\",\n",
    "  })\n",
    "df_temp_2024_cheon.drop([\"7.*선택* 보내는 분 성함과 연락처 작성\\n(생략시 사장님 성함과 전화번호로 자동 발송됩니다!)\", \"9. \\n1️⃣1박스 또는 같은 주소, 같은 상품 1박스이상 주문시-> '없음' 선택\\n\\n2️⃣ 2박스 이상 또는 같은 주소, 같은상품 2박스 이상 주문시-> 'ooo 주문자 주문수량 총 o 박스 입니다' 적어주세요\\n\\n3️⃣ 같은 주소 원하시는 상품이 각각 다를 경우-> ' ooo 주문자 주문수량 총 o 박스 입니다' 를 적은 후 주문하지 않은 상품을 다시 한번 주문서를 작성해주시길 바랍니다.\\nex) 상품5kg 1박스+가정용 5kg 1박스 작성금지\", \"주문서를 잘 작성하였는지 다시 한번 확인부탁드립니다🙏🏻 주문해주셔서 감사합니다🙇🏻‍♀️\"], axis=1, inplace=True)\n",
    "df_temp_2024_cheon"
   ]
  },
  {
   "cell_type": "code",
   "execution_count": null,
   "id": "507f858b",
   "metadata": {},
   "outputs": [],
   "source": [
    "df_temp_2022_2 = df.rename(columns={\n",
    "  \"주문자명 (지금 주문서를 쓰고 있는 사람)\": \"order_name\",\n",
    "  \"🍊수령인 (귤 받는사람)\": \"receiver_name\",\n",
    "  \"🍊수령인 연락처 (택배사 배송 관련 문자 발송- 번호 양식 엄수 ex/010-1234-5678 (숫자만 배열x)\": \"receiver_phone_number\",\n",
    "  \"🍊받는사람 주소 (시/도, 시/군/구 작성요망)\": \"receiver_address\",\n",
    "  \"🍊선택해주세요\": \"description\",\n",
    "  \"🍊원하시는 수량 (귤 받으실 분 필요수량) \": \"stock\",\n",
    "  \"입금자명\": \"depositor_name\",\n",
    "  \"요청사항 (ex/ ooo 주문자 주문수량 총 o 박스 입니다 )\": \"memo\",\n",
    "  \"타임스탬프\": \"created_at\",\n",
    "  })\n",
    "df_temp_2022_2.drop([\"주문해주셔서 감사합니다🙇🏻‍♀️\", \"*선택* 보내는사람(생략시 사장님 성함으로 자동 발송)\"], axis=1, inplace=True)"
   ]
  },
  {
   "cell_type": "code",
   "execution_count": null,
   "id": "59ce6a99",
   "metadata": {},
   "outputs": [],
   "source": [
    "import pandas as pd\n",
    "import numpy as np"
   ]
  },
  {
   "cell_type": "code",
   "execution_count": null,
   "id": "a2a25762",
   "metadata": {},
   "outputs": [],
   "source": [
    "df_temp_2022_1\n",
    "df_temp_2022_2\n",
    "df_temp_2023\n",
    "df_temp_2024_no\n",
    "df_temp_2024_han\n",
    "df_temp_2024_cheon\n",
    "df_temp_2025_cheon"
   ]
  },
  {
   "cell_type": "code",
   "execution_count": null,
   "id": "a9a59395",
   "metadata": {},
   "outputs": [],
   "source": [
    "df_sum_temp = pd.concat([df_temp_2022_1,\n",
    "df_temp_2022_2,\n",
    "df_temp_2023,\n",
    "df_temp_2024_no,\n",
    "df_temp_2024_han,\n",
    "df_temp_2024_cheon,\n",
    "df_temp_2025_cheon])\n",
    "\n",
    "df_sum_temp"
   ]
  },
  {
   "cell_type": "code",
   "execution_count": null,
   "id": "577c18c2",
   "metadata": {},
   "outputs": [],
   "source": [
    "df_unique_total = df_sum_temp.drop_duplicates(subset=['receiver_address'], keep='first')\n",
    "df_unique_total"
   ]
  },
  {
   "cell_type": "code",
   "execution_count": null,
   "id": "88a483fa",
   "metadata": {},
   "outputs": [],
   "source": [
    "df_unique_total.to_csv(\"../processed_data/unique_total_data.csv\", index=False, encoding=\"utf-8-sig\")"
   ]
  },
  {
   "cell_type": "code",
   "execution_count": null,
   "id": "d5f3e37f",
   "metadata": {},
   "outputs": [],
   "source": [
    "df_address = df_unique_total[[\"created_at\", \"receiver_name\", \"receiver_address\", \"receiver_phone_number\"]]\n",
    "df_address"
   ]
  },
  {
   "cell_type": "code",
   "execution_count": null,
   "id": "0890533e",
   "metadata": {},
   "outputs": [],
   "source": [
    "## phone_number\n",
    "required_cols = [\"created_at\", \"receiver_name\", \"receiver_address\", \"receiver_phone_number\"]\n",
    "\n",
    "if all(col in df_address.columns for col in required_cols):\n",
    "    def normalize_phone_number(phone):\n",
    "        \"\"\"다양한 형식의 전화번호를 '010-1234-5678' 형태로 표준화하는 함수\"\"\"\n",
    "        if(type(phone) == str):\n",
    "            if(len(phone) != 13):\n",
    "                phone = phone.replace(\" \", \"\")\n",
    "                phone = f\"{phone[:3]}-{phone[3:7]}-{phone[7:]}\"\n",
    "            return phone\n",
    "        elif(type(phone) == int):\n",
    "            phone = str(phone)\n",
    "            if(len(phone) == 10):\n",
    "                phone = f\"0{phone[:2]}-{phone[2:6]}-{phone[6:]}\"\n",
    "            elif(len(phone) == 8):\n",
    "                phone = f\"010-{phone[:4]}-{phone[4:]}\"\n",
    "            else:\n",
    "                print(phone)\n",
    "            return phone\n",
    "        return phone\n",
    "\n",
    "    # 'receiver_phone_number' 컬럼에 위 함수를 적용합니다.\n",
    "    df_address['receiver_phone_number'] = df_address['receiver_phone_number'].apply(normalize_phone_number)\n",
    "\n",
    "    # 결과 확인\n",
    "    print(\"--- 전화번호 전처리 후 데이터 ---\")\n",
    "    print(df_address.head(10).to_string())\n",
    "\n",
    "else:\n",
    "    print(\"오류: 필요한 컬럼이 데이터프레임에 없습니다. 컬럼명을 다시 확인해주세요.\")"
   ]
  },
  {
   "cell_type": "code",
   "execution_count": null,
   "id": "80ccf5d5",
   "metadata": {},
   "outputs": [],
   "source": [
    "df_address[df_address[\"receiver_phone_number\"].str.len() != 13]"
   ]
  },
  {
   "cell_type": "code",
   "execution_count": null,
   "id": "75b7052f",
   "metadata": {},
   "outputs": [],
   "source": [
    "df_address[\"created_at\"]"
   ]
  },
  {
   "cell_type": "code",
   "execution_count": null,
   "id": "74f1780f",
   "metadata": {},
   "outputs": [],
   "source": [
    "import pandas as pd\n",
    "\n",
    "# 1. 에러를 방지하도록 수정된 함수 정의\n",
    "def sanitize_timestamp(s):\n",
    "    if isinstance(s, str):\n",
    "        s = s.replace(' 오전 ', ' AM ')\n",
    "        s = s.replace(' 오후 ', ' PM ')\n",
    "        s = s.replace(' GMT+9', '')\n",
    "    return s\n",
    "\n",
    "# 2. 수정한 함수를 .apply()에 적용\n",
    "# 이제 NaN이나 다른 타입 값이 있어도 에러가 나지 않습니다.\n",
    "df_address['created_at'] = df_address['created_at'].apply(sanitize_timestamp)\n",
    "\n",
    "# 3. datetime 타입으로 최종 변환\n",
    "df_address['created_at'] = pd.to_datetime(df_address['created_at'], format='%Y/%m/%d %I:%M:%S %p', errors='coerce')\n",
    "\n",
    "# 변환 결과 확인\n",
    "print(\"\\nFirst 5 rows of the converted 'created_at' column:\")\n",
    "print(df_address['created_at'].head())"
   ]
  },
  {
   "cell_type": "code",
   "execution_count": null,
   "id": "f855d36b",
   "metadata": {},
   "outputs": [],
   "source": [
    "df_address"
   ]
  },
  {
   "cell_type": "code",
   "execution_count": null,
   "id": "f4476e7e",
   "metadata": {},
   "outputs": [],
   "source": [
    "df_address.to_csv(\"../processed_data/temp_data.csv\", index=False, encoding=\"utf-8-sig\")"
   ]
  },
  {
   "cell_type": "code",
   "execution_count": null,
   "id": "39da0b81",
   "metadata": {},
   "outputs": [],
   "source": [
    "df_address"
   ]
  },
  {
   "cell_type": "code",
   "execution_count": null,
   "id": "22665b19",
   "metadata": {},
   "outputs": [],
   "source": [
    "df_address_2022_2"
   ]
  },
  {
   "cell_type": "code",
   "execution_count": null,
   "id": "d634dc7c",
   "metadata": {},
   "outputs": [],
   "source": [
    "df_test = pd.concat([df_address_2022_1, df_address_2022_2])\n",
    "df_test"
   ]
  },
  {
   "cell_type": "code",
   "execution_count": null,
   "id": "06b74a9b",
   "metadata": {},
   "outputs": [],
   "source": [
    "df_created = pd.read_csv(\"../processed_data/temp_data.csv\")\n",
    "df_created"
   ]
  },
  {
   "cell_type": "code",
   "execution_count": null,
   "id": "090cd6f6",
   "metadata": {},
   "outputs": [],
   "source": [
    "df_created['created_at_dt'] = pd.to_datetime(df_created['created_at'], format='mixed', errors='coerce')\n",
    "\n",
    "\n",
    "# 2. 유효한 날짜들(NaT가 아닌 값)에 대해서만 최종 문자열 형태로 변환\n",
    "valid_dates = df_created['created_at_dt'].notna()\n",
    "df_created.loc[valid_dates, 'timestamp_for_db'] = \\\n",
    "    df_created.loc[valid_dates, 'created_at_dt'].dt.strftime('%Y-%m-%d %H:%M:%S') + '.' + \\\n",
    "    df_created.loc[valid_dates, 'created_at_dt'].dt.microsecond.astype(str).str.zfill(6).str[:3]\n",
    "\n",
    "\n",
    "# 결과 확인\n",
    "print(\"--- 변환된 datetime 객체 (NaT 포함) ---\")\n",
    "print(df_created['created_at_dt'])\n",
    "print(\"\\n--- DB 저장용 최종 포맷 ---\")\n",
    "print(df_created['timestamp_for_db'])"
   ]
  },
  {
   "cell_type": "code",
   "execution_count": null,
   "id": "fac3ab44",
   "metadata": {},
   "outputs": [],
   "source": [
    "df_final = df_created[[\"timestamp_for_db\", \"receiver_name\", \"receiver_address\", \"receiver_phone_number\"]]\n",
    "df_final = df_final.rename(columns={\n",
    "  \"timestamp_for_db\": \"created_at\"\n",
    "})\n",
    "df_final"
   ]
  },
  {
   "cell_type": "code",
   "execution_count": null,
   "id": "26a0ece4",
   "metadata": {},
   "outputs": [],
   "source": [
    "df_final.to_csv(\"../processed_data/total_data.csv\", index=False, encoding=\"utf-8-sig\")"
   ]
  },
  {
   "cell_type": "code",
   "execution_count": null,
   "id": "3846f729",
   "metadata": {},
   "outputs": [],
   "source": []
  }
 ],
 "metadata": {
  "kernelspec": {
   "display_name": "langchain-kr--z2MvRe_-py3.11",
   "language": "python",
   "name": "python3"
  },
  "language_info": {
   "codemirror_mode": {
    "name": "ipython",
    "version": 3
   },
   "file_extension": ".py",
   "mimetype": "text/x-python",
   "name": "python",
   "nbconvert_exporter": "python",
   "pygments_lexer": "ipython3",
   "version": "3.11.13"
  }
 },
 "nbformat": 4,
 "nbformat_minor": 5
}
