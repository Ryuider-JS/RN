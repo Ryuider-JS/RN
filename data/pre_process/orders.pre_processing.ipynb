{
 "cells": [
  {
   "cell_type": "code",
   "execution_count": null,
   "id": "d2a430a5",
   "metadata": {},
   "outputs": [],
   "source": [
    "import pandas as pd\n",
    "import numpy as np"
   ]
  },
  {
   "cell_type": "code",
   "execution_count": null,
   "id": "8dd0ab1f",
   "metadata": {},
   "outputs": [],
   "source": [
    "df = pd.read_csv(\"../processed_data/unique_total_data.csv\")\n",
    "df"
   ]
  },
  {
   "cell_type": "code",
   "execution_count": null,
   "id": "45796ccf",
   "metadata": {},
   "outputs": [],
   "source": [
    "df['stock'] = pd.to_numeric(df['stock'].str.replace('박스', ''), errors='coerce')\n",
    "df['stock'].value_counts()"
   ]
  },
  {
   "cell_type": "code",
   "execution_count": null,
   "id": "df2ed422",
   "metadata": {},
   "outputs": [],
   "source": [
    "df['order_name'] = df['order_name'].str.replace(r'[/\\d()]', '', regex=True)\n",
    "\n",
    "df"
   ]
  },
  {
   "cell_type": "code",
   "execution_count": null,
   "id": "9b204671",
   "metadata": {},
   "outputs": [],
   "source": [
    "df = df.drop(columns=['name', \"phone_number\"])"
   ]
  },
  {
   "cell_type": "code",
   "execution_count": null,
   "id": "cedb9223",
   "metadata": {},
   "outputs": [],
   "source": []
  },
  {
   "cell_type": "code",
   "execution_count": null,
   "id": "c147d4ee",
   "metadata": {},
   "outputs": [],
   "source": [
    "df_user = df[[\"name\",\"phone_number\"]]"
   ]
  },
  {
   "cell_type": "code",
   "execution_count": null,
   "id": "bcce168f",
   "metadata": {},
   "outputs": [],
   "source": [
    "df_user"
   ]
  },
  {
   "cell_type": "code",
   "execution_count": null,
   "id": "aa0d3af3",
   "metadata": {},
   "outputs": [],
   "source": [
    "df_user[\"phone_number\"].str.replace(r'[/()]', '', regex=True)\n",
    "df_user"
   ]
  },
  {
   "cell_type": "code",
   "execution_count": null,
   "id": "ab9b4c34",
   "metadata": {},
   "outputs": [],
   "source": [
    "df_user['phone_number'] = df_user['phone_number'].str.lstrip('/')\n"
   ]
  },
  {
   "cell_type": "code",
   "execution_count": null,
   "id": "2a9eff4d",
   "metadata": {},
   "outputs": [],
   "source": [
    "# 'phone_number' 컬럼을 슬라이싱하여 하이픈 추가\n",
    "df_user['phone_number'] = df_user['phone_number'].str[:3] + '-' + \\\n",
    "                     df_user['phone_number'].str[3:7] + '-' + \\\n",
    "                     df_user['phone_number'].str[7:]\n"
   ]
  },
  {
   "cell_type": "code",
   "execution_count": null,
   "id": "63909045",
   "metadata": {},
   "outputs": [],
   "source": [
    "df_user"
   ]
  },
  {
   "cell_type": "code",
   "execution_count": null,
   "id": "da7dbc63",
   "metadata": {},
   "outputs": [],
   "source": [
    "df_cleaned = df_user.drop_duplicates(subset=['name'], keep='last')\n",
    "\n",
    "df_cleaned\n"
   ]
  },
  {
   "cell_type": "code",
   "execution_count": null,
   "id": "2256b03a",
   "metadata": {},
   "outputs": [],
   "source": [
    "df_cleaned[\"name\"].value_counts()"
   ]
  },
  {
   "cell_type": "code",
   "execution_count": null,
   "id": "22c5de52",
   "metadata": {},
   "outputs": [],
   "source": [
    "df_cleaned.to_csv(\"../processed_data/user_data.csv\",index=False, encoding=\"utf-8-sig\")"
   ]
  },
  {
   "cell_type": "code",
   "execution_count": null,
   "id": "82df6ac2",
   "metadata": {},
   "outputs": [],
   "source": []
  }
 ],
 "metadata": {
  "kernelspec": {
   "display_name": "langchain-kr--z2MvRe_-py3.11",
   "language": "python",
   "name": "python3"
  },
  "language_info": {
   "codemirror_mode": {
    "name": "ipython",
    "version": 3
   },
   "file_extension": ".py",
   "mimetype": "text/x-python",
   "name": "python",
   "nbconvert_exporter": "python",
   "pygments_lexer": "ipython3",
   "version": "3.11.13"
  }
 },
 "nbformat": 4,
 "nbformat_minor": 5
}
